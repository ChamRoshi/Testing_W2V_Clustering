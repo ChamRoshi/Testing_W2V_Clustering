{
 "cells": [
  {
   "cell_type": "code",
   "execution_count": 1,
   "metadata": {},
   "outputs": [
    {
     "name": "stderr",
     "output_type": "stream",
     "text": [
      "C:\\Users\\joemountford\\AppData\\Local\\Continuum\\Anaconda3\\lib\\site-packages\\gensim\\utils.py:1197: UserWarning: detected Windows; aliasing chunkize to chunkize_serial\n",
      "  warnings.warn(\"detected Windows; aliasing chunkize to chunkize_serial\")\n"
     ]
    }
   ],
   "source": [
    "from gensim.models import Word2Vec\n",
    "from gensim.models import word2vec\n",
    "# from gensim.models import LDA\n",
    "import gensim\n",
    "import logging\n",
    "import stop_words\n",
    "import nltk\n",
    "import string\n",
    "import os\n",
    "from nltk.stem import WordNetLemmatizer\n",
    "import numpy as np\n",
    "import pickle\n",
    "import pandas as pd\n",
    "import sklearn.cluster as cl\n",
    "import matplotlib.pyplot as plt\n",
    "import networkx as nx\n",
    "import warnings\n",
    "warnings.filterwarnings(\"ignore\")\n",
    "import datetime\n",
    "import matplotlib.pyplot as plt\n",
    "\n",
    "logging.basicConfig(format='%(asctime)s : %(levelname)s : %(message)s', level=logging.INFO)\n",
    "\n",
    "wordnet_lemmatizer = WordNetLemmatizer()"
   ]
  },
  {
   "cell_type": "markdown",
   "metadata": {},
   "source": [
    "# Clustering With Word2Vec \n",
    "\n",
    "## aims\n",
    "* compare input clusters with output clusters\n",
    "* inspect output clusters manually for semantic cohesion\n",
    "* check for ML problems (overfitting and shit) \n",
    "\n",
    "## outputs\n",
    "* reccomendations on how to cluster input text and complete text of a word2vec corpus\n",
    "* process for testing clusters agaisnt expected clusters"
   ]
  },
  {
   "cell_type": "code",
   "execution_count": 2,
   "metadata": {},
   "outputs": [
    {
     "name": "stderr",
     "output_type": "stream",
     "text": [
      "2018-04-09 13:13:44,752 : INFO : loading Dictionary object from Dicktionary\n",
      "2018-04-09 13:13:44,763 : INFO : loaded Dicktionary\n"
     ]
    },
    {
     "name": "stdout",
     "output_type": "stream",
     "text": [
      "24082\n",
      "24082\n",
      "1127376\n"
     ]
    }
   ],
   "source": [
    "\n",
    "with open(\"corp.cor\", \"rb\") as cp: \n",
    "    corp = pickle.load(cp)\n",
    "with open(\"sentances.sent\", \"rb\") as sent: \n",
    "    sentances = pickle.load(sent)\n",
    "dictionary = gensim.corpora.dictionary.Dictionary.load(\"Dicktionary\")\n",
    "\n",
    "print (len(corp))\n",
    "print (len(sentances))\n",
    "\n",
    "total_words = 0\n",
    "for snet in sentances: \n",
    "    for word in snet: \n",
    "        total_words += 1\n",
    "        \n",
    "print (total_words)"
   ]
  },
  {
   "cell_type": "code",
   "execution_count": 3,
   "metadata": {
    "scrolled": true
   },
   "outputs": [
    {
     "name": "stderr",
     "output_type": "stream",
     "text": [
      "2018-04-09 13:13:44,889 : INFO : collecting all words and their counts\n",
      "2018-04-09 13:13:44,891 : INFO : PROGRESS: at sentence #0, processed 0 words, keeping 0 word types\n",
      "2018-04-09 13:13:45,008 : INFO : PROGRESS: at sentence #10000, processed 534924 words, keeping 15463 word types\n",
      "2018-04-09 13:13:45,091 : INFO : PROGRESS: at sentence #20000, processed 959557 words, keeping 18833 word types\n",
      "2018-04-09 13:13:45,121 : INFO : collected 20016 word types from a corpus of 1127376 raw words and 24082 sentences\n",
      "2018-04-09 13:13:45,123 : INFO : Loading a fresh vocabulary\n",
      "2018-04-09 13:13:45,226 : INFO : min_count=2 retains 14068 unique words (70% of original 20016, drops 5948)\n",
      "2018-04-09 13:13:45,228 : INFO : min_count=2 leaves 1121428 word corpus (99% of original 1127376, drops 5948)\n",
      "2018-04-09 13:13:45,287 : INFO : deleting the raw counts dictionary of 20016 items\n",
      "2018-04-09 13:13:45,288 : INFO : sample=0.01 downsamples 4 most-common words\n",
      "2018-04-09 13:13:45,289 : INFO : downsampling leaves estimated 1107842 word corpus (98.8% of prior 1121428)\n",
      "2018-04-09 13:13:45,348 : INFO : estimated required memory for 14068 words and 300 dimensions: 40797200 bytes\n",
      "2018-04-09 13:13:45,349 : INFO : resetting layer weights\n",
      "2018-04-09 13:13:45,607 : INFO : training model with 10 workers on 14068 vocabulary and 300 features, using sg=0 hs=0 sample=0.01 negative=5 window=10\n",
      "2018-04-09 13:13:46,698 : INFO : EPOCH 1 - PROGRESS: at 50.48% examples, 561818 words/s, in_qsize 19, out_qsize 0\n",
      "2018-04-09 13:13:47,282 : INFO : worker thread finished; awaiting finish of 9 more threads\n",
      "2018-04-09 13:13:47,301 : INFO : worker thread finished; awaiting finish of 8 more threads\n",
      "2018-04-09 13:13:47,318 : INFO : worker thread finished; awaiting finish of 7 more threads\n",
      "2018-04-09 13:13:47,320 : INFO : worker thread finished; awaiting finish of 6 more threads\n",
      "2018-04-09 13:13:47,323 : INFO : worker thread finished; awaiting finish of 5 more threads\n",
      "2018-04-09 13:13:47,337 : INFO : worker thread finished; awaiting finish of 4 more threads\n",
      "2018-04-09 13:13:47,345 : INFO : worker thread finished; awaiting finish of 3 more threads\n",
      "2018-04-09 13:13:47,367 : INFO : worker thread finished; awaiting finish of 2 more threads\n",
      "2018-04-09 13:13:47,369 : INFO : worker thread finished; awaiting finish of 1 more threads\n",
      "2018-04-09 13:13:47,370 : INFO : worker thread finished; awaiting finish of 0 more threads\n",
      "2018-04-09 13:13:47,372 : INFO : EPOCH - 1 : training on 1127376 raw words (1107651 effective words) took 1.7s, 633084 effective words/s\n",
      "2018-04-09 13:13:48,397 : INFO : EPOCH 2 - PROGRESS: at 49.22% examples, 592034 words/s, in_qsize 19, out_qsize 0\n",
      "2018-04-09 13:13:48,995 : INFO : worker thread finished; awaiting finish of 9 more threads\n",
      "2018-04-09 13:13:49,000 : INFO : worker thread finished; awaiting finish of 8 more threads\n",
      "2018-04-09 13:13:49,004 : INFO : worker thread finished; awaiting finish of 7 more threads\n",
      "2018-04-09 13:13:49,006 : INFO : worker thread finished; awaiting finish of 6 more threads\n",
      "2018-04-09 13:13:49,011 : INFO : worker thread finished; awaiting finish of 5 more threads\n",
      "2018-04-09 13:13:49,034 : INFO : worker thread finished; awaiting finish of 4 more threads\n",
      "2018-04-09 13:13:49,036 : INFO : worker thread finished; awaiting finish of 3 more threads\n",
      "2018-04-09 13:13:49,056 : INFO : worker thread finished; awaiting finish of 2 more threads\n",
      "2018-04-09 13:13:49,058 : INFO : worker thread finished; awaiting finish of 1 more threads\n",
      "2018-04-09 13:13:49,075 : INFO : worker thread finished; awaiting finish of 0 more threads\n",
      "2018-04-09 13:13:49,076 : INFO : EPOCH - 2 : training on 1127376 raw words (1107890 effective words) took 1.7s, 657954 effective words/s\n",
      "2018-04-09 13:13:50,097 : INFO : EPOCH 3 - PROGRESS: at 51.12% examples, 609107 words/s, in_qsize 20, out_qsize 0\n",
      "2018-04-09 13:13:50,693 : INFO : worker thread finished; awaiting finish of 9 more threads\n",
      "2018-04-09 13:13:50,719 : INFO : worker thread finished; awaiting finish of 8 more threads\n",
      "2018-04-09 13:13:50,722 : INFO : worker thread finished; awaiting finish of 7 more threads\n",
      "2018-04-09 13:13:50,723 : INFO : worker thread finished; awaiting finish of 6 more threads\n",
      "2018-04-09 13:13:50,725 : INFO : worker thread finished; awaiting finish of 5 more threads\n",
      "2018-04-09 13:13:50,746 : INFO : worker thread finished; awaiting finish of 4 more threads\n",
      "2018-04-09 13:13:50,751 : INFO : worker thread finished; awaiting finish of 3 more threads\n",
      "2018-04-09 13:13:50,768 : INFO : worker thread finished; awaiting finish of 2 more threads\n",
      "2018-04-09 13:13:50,774 : INFO : worker thread finished; awaiting finish of 1 more threads\n",
      "2018-04-09 13:13:50,786 : INFO : worker thread finished; awaiting finish of 0 more threads\n",
      "2018-04-09 13:13:50,788 : INFO : EPOCH - 3 : training on 1127376 raw words (1107985 effective words) took 1.7s, 653016 effective words/s\n",
      "2018-04-09 13:13:51,824 : INFO : EPOCH 4 - PROGRESS: at 54.09% examples, 637889 words/s, in_qsize 17, out_qsize 2\n",
      "2018-04-09 13:13:52,337 : INFO : worker thread finished; awaiting finish of 9 more threads\n",
      "2018-04-09 13:13:52,341 : INFO : worker thread finished; awaiting finish of 8 more threads\n",
      "2018-04-09 13:13:52,346 : INFO : worker thread finished; awaiting finish of 7 more threads\n",
      "2018-04-09 13:13:52,355 : INFO : worker thread finished; awaiting finish of 6 more threads\n",
      "2018-04-09 13:13:52,357 : INFO : worker thread finished; awaiting finish of 5 more threads\n",
      "2018-04-09 13:13:52,378 : INFO : worker thread finished; awaiting finish of 4 more threads\n",
      "2018-04-09 13:13:52,400 : INFO : worker thread finished; awaiting finish of 3 more threads\n",
      "2018-04-09 13:13:52,416 : INFO : worker thread finished; awaiting finish of 2 more threads\n",
      "2018-04-09 13:13:52,418 : INFO : worker thread finished; awaiting finish of 1 more threads\n",
      "2018-04-09 13:13:52,428 : INFO : worker thread finished; awaiting finish of 0 more threads\n",
      "2018-04-09 13:13:52,429 : INFO : EPOCH - 4 : training on 1127376 raw words (1107645 effective words) took 1.6s, 681109 effective words/s\n",
      "2018-04-09 13:13:53,448 : INFO : EPOCH 5 - PROGRESS: at 49.24% examples, 602388 words/s, in_qsize 20, out_qsize 1\n",
      "2018-04-09 13:13:54,039 : INFO : worker thread finished; awaiting finish of 9 more threads\n",
      "2018-04-09 13:13:54,048 : INFO : worker thread finished; awaiting finish of 8 more threads\n",
      "2018-04-09 13:13:54,052 : INFO : worker thread finished; awaiting finish of 7 more threads\n",
      "2018-04-09 13:13:54,055 : INFO : worker thread finished; awaiting finish of 6 more threads\n",
      "2018-04-09 13:13:54,067 : INFO : worker thread finished; awaiting finish of 5 more threads\n",
      "2018-04-09 13:13:54,069 : INFO : worker thread finished; awaiting finish of 4 more threads\n",
      "2018-04-09 13:13:54,071 : INFO : worker thread finished; awaiting finish of 3 more threads\n",
      "2018-04-09 13:13:54,073 : INFO : worker thread finished; awaiting finish of 2 more threads\n",
      "2018-04-09 13:13:54,090 : INFO : worker thread finished; awaiting finish of 1 more threads\n",
      "2018-04-09 13:13:54,096 : INFO : worker thread finished; awaiting finish of 0 more threads\n",
      "2018-04-09 13:13:54,097 : INFO : EPOCH - 5 : training on 1127376 raw words (1107877 effective words) took 1.6s, 671519 effective words/s\n",
      "2018-04-09 13:13:54,099 : INFO : training on a 5636880 raw words (5539048 effective words) took 8.5s, 652377 effective words/s\n"
     ]
    }
   ],
   "source": [
    "#train dataset\n",
    "num_features = 300    # Word vector dimensionality\n",
    "min_word_count = 2  # Minimum word count\n",
    "num_workers = 10       # Number of threads to run in parallel\n",
    "context = 10          # Context window size\n",
    "downsampling = 1e-2\n",
    "\n",
    "\n",
    "\n",
    "model = Word2Vec(sentances, workers=num_workers, \\\n",
    "            size=num_features, min_count = min_word_count, \\\n",
    "            window = context, sample = downsampling, seed=1)"
   ]
  },
  {
   "cell_type": "markdown",
   "metadata": {},
   "source": [
    "we want to build a vocab to test against the word2vec model. I did try using the entire model.wv.vocab but it's huge and slow. "
   ]
  },
  {
   "cell_type": "code",
   "execution_count": 4,
   "metadata": {
    "scrolled": true
   },
   "outputs": [
    {
     "name": "stderr",
     "output_type": "stream",
     "text": [
      "2018-04-09 13:13:54,116 : INFO : precomputing L2-norms of word weight vectors\n"
     ]
    },
    {
     "name": "stdout",
     "output_type": "stream",
     "text": [
      "['tasty', 'yummy', 'fruity', 'berry', 'protein', 'green', 'yum', 'vitamin', 'super', 'invigorate', 'vegetable', 'pomegranate', 'fruit', 'veggie', 'mango', 'pink', 'nutritious', 'tropical', 'fresh', 'recharge', 'antioxidant', 'detox', 'pineapple', 'ginger', 'foodie', 'kiwi', 'strawberry', 'refreshing', 'homemade', 'mackerel']\n"
     ]
    },
    {
     "data": {
      "text/plain": [
       "[None,\n",
       " None,\n",
       " None,\n",
       " None,\n",
       " None,\n",
       " None,\n",
       " None,\n",
       " None,\n",
       " None,\n",
       " None,\n",
       " None,\n",
       " None,\n",
       " None,\n",
       " None,\n",
       " None,\n",
       " None,\n",
       " None,\n",
       " None,\n",
       " None,\n",
       " None,\n",
       " None,\n",
       " None,\n",
       " None,\n",
       " None,\n",
       " None,\n",
       " None,\n",
       " None,\n",
       " None,\n",
       " None,\n",
       " None]"
      ]
     },
     "execution_count": 4,
     "metadata": {},
     "output_type": "execute_result"
    }
   ],
   "source": [
    "# model.wv.similar_by_word(\"innocent\")\n",
    "vocab = [x[0] for x in model.wv.similar_by_word(\"delicious\", topn = 30)]\n",
    "print(vocab)\n",
    "[vocab.append(x[0]) for x in model.wv.similar_by_word(\"customer\", topn = 30)]\n",
    "[vocab.append(x[0]) for x in model.wv.similar_by_word(\"thirsty\", topn = 30)]\n",
    "\n",
    "# print(vocab)\n",
    "\n",
    "init_tag = [0 for x in range(30)]\n",
    "[init_tag.append(1) for x in range(30)]\n",
    "[init_tag.append(2) for x in range(30)]"
   ]
  },
  {
   "cell_type": "markdown",
   "metadata": {},
   "source": [
    "we want to build a similarity matrix for training with in sklearn so lets iterate through ever term and compare it to every other term. \n",
    "\n",
    "super pretty code right here /s"
   ]
  },
  {
   "cell_type": "code",
   "execution_count": 5,
   "metadata": {},
   "outputs": [],
   "source": [
    "term1l = []\n",
    "term2l = []\n",
    "similarity = []\n",
    "avg_len = []\n",
    "\n",
    "for num, term in enumerate(vocab):\n",
    "    now = datetime.datetime.now()\n",
    "    for term2 in vocab: \n",
    "        term1l.append(term)\n",
    "        term2l.append(term2)\n",
    "        similarity.append(model.similarity(term, term2))\n",
    "    avg_len.append((len(model.wv.vocab) - num) * (datetime.datetime.now() - now))\n",
    "     \n",
    "        \n"
   ]
  },
  {
   "cell_type": "code",
   "execution_count": 6,
   "metadata": {},
   "outputs": [],
   "source": [
    "sim_df =pd.DataFrame()\n",
    "sim_df[\"term_1\"] = term1l\n",
    "sim_df[\"term_2\"] = term2l\n",
    "sim_df[\"similarity\"] = similarity\n"
   ]
  },
  {
   "cell_type": "code",
   "execution_count": 7,
   "metadata": {
    "scrolled": true
   },
   "outputs": [
    {
     "name": "stdout",
     "output_type": "stream",
     "text": [
      "term_2        account  antioxidant   bangkok  bartender      beer     berry  \\\n",
      "term_1                                                                        \n",
      "account      1.000000     0.135022  0.174825   0.200267 -0.020991  0.196912   \n",
      "antioxidant  0.135022     1.000000  0.660899   0.545083  0.320534  0.885514   \n",
      "bangkok      0.174825     0.660899  1.000000   0.698310  0.410700  0.550554   \n",
      "bartender    0.200267     0.545083  0.698310   1.000000  0.695943  0.547089   \n",
      "beer        -0.020991     0.320534  0.410700   0.695943  1.000000  0.350765   \n",
      "berry        0.196912     0.885514  0.550554   0.547089  0.350765  1.000000   \n",
      "blast        0.670672     0.283807  0.340867   0.529689  0.196456  0.374186   \n",
      "booty        0.530608     0.662508  0.719363   0.608518  0.292928  0.672647   \n",
      "brewed       0.621419     0.476168  0.528601   0.622006  0.274417  0.523860   \n",
      "broth        0.130250     0.643769  0.752127   0.798152  0.683437  0.668791   \n",
      "cash         0.539669     0.326205  0.419655   0.543168  0.213240  0.350022   \n",
      "champagne    0.219693     0.509510  0.718479   0.773299  0.698110  0.469907   \n",
      "chat         0.488825     0.346862  0.504370   0.561335  0.282313  0.425377   \n",
      "cocktail     0.000302     0.635936  0.592598   0.845965  0.808610  0.683774   \n",
      "coffee       0.049290     0.557458  0.494613   0.558684  0.730722  0.660273   \n",
      "cognac      -0.060877     0.452558  0.697547   0.803917  0.739440  0.348164   \n",
      "competition  0.510277     0.590164  0.536182   0.455082  0.076000  0.646006   \n",
      "condiment    0.093290     0.676860  0.690653   0.617881  0.456649  0.641782   \n",
      "cracking     0.586310     0.478626  0.513517   0.615821  0.208996  0.487084   \n",
      "dean         0.597472     0.249133  0.381698   0.604473  0.325783  0.353289   \n",
      "decaf        0.021242     0.531069  0.700092   0.745695  0.592401  0.451761   \n",
      "desk         0.659560     0.338469  0.394154   0.426853  0.070413  0.439550   \n",
      "detox        0.222171     0.881704  0.662044   0.524086  0.221889  0.810108   \n",
      "dinnertime   0.021046     0.574480  0.795443   0.755283  0.599578  0.476959   \n",
      "employee     0.650767     0.187925  0.318386   0.444004  0.136678  0.210677   \n",
      "foodie       0.185746     0.864197  0.713397   0.499228  0.248685  0.763877   \n",
      "fresh        0.146323     0.821014  0.521808   0.604219  0.483895  0.896540   \n",
      "fruit       -0.003703     0.830380  0.348866   0.383498  0.329525  0.768067   \n",
      "fruity       0.295354     0.886347  0.627854   0.612068  0.338189  0.930757   \n",
      "gig          0.647601     0.474798  0.583316   0.546914  0.195901  0.555673   \n",
      "...               ...          ...       ...        ...       ...       ...   \n",
      "relax        0.139343     0.726562  0.827198   0.703799  0.567280  0.697934   \n",
      "responsibly  0.033382     0.438532  0.651424   0.756764  0.710128  0.310592   \n",
      "rum          0.033696     0.681232  0.704465   0.828706  0.783707  0.657966   \n",
      "scraped      0.599440     0.195421  0.414717   0.483371  0.250831  0.316475   \n",
      "seal         0.588052     0.522799  0.584467   0.671516  0.223003  0.585235   \n",
      "slurp        0.004243     0.640879  0.677549   0.789267  0.774680  0.598117   \n",
      "soft         0.040966     0.549571  0.742392   0.795136  0.687816  0.586194   \n",
      "spark        0.488875     0.465603  0.575266   0.686436  0.290113  0.493556   \n",
      "statue       0.590449     0.562060  0.655196   0.602173  0.264948  0.573977   \n",
      "strawberry   0.095769     0.787616  0.501368   0.498218  0.329516  0.936325   \n",
      "super        0.366420     0.674960  0.281069   0.275024  0.129279  0.813780   \n",
      "tasty        0.206826     0.834629  0.640407   0.529757  0.345491  0.834720   \n",
      "tea          0.063001     0.565804  0.450686   0.608202  0.741718  0.696905   \n",
      "tequila      0.111362     0.536181  0.548925   0.708661  0.803269  0.520938   \n",
      "textile      0.479976     0.513302  0.627028   0.560969  0.335901  0.527481   \n",
      "tipsy        0.171219     0.442273  0.680449   0.629409  0.505473  0.335141   \n",
      "tropical     0.271997     0.854872  0.537391   0.538338  0.324079  0.919791   \n",
      "tunnel       0.630138     0.400217  0.470107   0.626454  0.185802  0.473622   \n",
      "turban       0.478382     0.482355  0.650703   0.756607  0.370046  0.525635   \n",
      "tweet        0.633321     0.296990  0.271982   0.266788  0.113400  0.405986   \n",
      "underground  0.612539     0.489477  0.572152   0.623788  0.145461  0.492869   \n",
      "uniform      0.570050     0.332800  0.538570   0.647672  0.258261  0.348779   \n",
      "vegetable    0.120824     0.866154  0.562686   0.507515  0.364970  0.850483   \n",
      "veggie       0.243150     0.866635  0.549628   0.422855  0.241653  0.882102   \n",
      "vermouth     0.124291     0.677860  0.720458   0.892641  0.652424  0.635969   \n",
      "vitamin      0.104922     0.858866  0.541429   0.506076  0.386407  0.853451   \n",
      "wine         0.016452     0.397464  0.348800   0.610480  0.896838  0.422437   \n",
      "youngster    0.618655     0.304269  0.462349   0.520865  0.162425  0.420454   \n",
      "yum          0.138012     0.915895  0.736769   0.664502  0.461937  0.841030   \n",
      "yummy        0.148544     0.897758  0.693480   0.525325  0.318687  0.834163   \n",
      "\n",
      "term_2          blast     booty    brewed     broth    ...     underground  \\\n",
      "term_1                                                 ...                   \n",
      "account      0.670672  0.530608  0.621419  0.130250    ...        0.612539   \n",
      "antioxidant  0.283807  0.662508  0.476168  0.643769    ...        0.489477   \n",
      "bangkok      0.340867  0.719363  0.528601  0.752127    ...        0.572152   \n",
      "bartender    0.529689  0.608518  0.622006  0.798152    ...        0.623788   \n",
      "beer         0.196456  0.292928  0.274417  0.683437    ...        0.145461   \n",
      "berry        0.374186  0.672647  0.523860  0.668791    ...        0.492869   \n",
      "blast        1.000000  0.665414  0.831097  0.404036    ...        0.786037   \n",
      "booty        0.665414  1.000000  0.788494  0.641951    ...        0.767209   \n",
      "brewed       0.831097  0.788494  1.000000  0.548386    ...        0.773278   \n",
      "broth        0.404036  0.641951  0.548386  1.000000    ...        0.465610   \n",
      "cash         0.767449  0.703462  0.788522  0.389913    ...        0.747546   \n",
      "champagne    0.334598  0.540742  0.497374  0.725970    ...        0.496446   \n",
      "chat         0.677830  0.734621  0.700167  0.551259    ...        0.643367   \n",
      "cocktail     0.294326  0.492292  0.422227  0.804451    ...        0.395344   \n",
      "coffee       0.221845  0.455502  0.325379  0.657299    ...        0.215193   \n",
      "cognac       0.177625  0.385327  0.287473  0.726813    ...        0.312433   \n",
      "competition  0.658698  0.811529  0.710409  0.547895    ...        0.689964   \n",
      "condiment    0.291097  0.484016  0.455979  0.721650    ...        0.415362   \n",
      "cracking     0.822249  0.743200  0.829854  0.487365    ...        0.811873   \n",
      "dean         0.781164  0.684597  0.753077  0.428978    ...        0.651508   \n",
      "decaf        0.182687  0.522089  0.370620  0.753198    ...        0.369618   \n",
      "desk         0.809608  0.641999  0.694926  0.331791    ...        0.763241   \n",
      "detox        0.387056  0.717656  0.487404  0.607669    ...        0.528797   \n",
      "dinnertime   0.236385  0.472868  0.338958  0.764612    ...        0.357056   \n",
      "employee     0.753182  0.543864  0.717759  0.266876    ...        0.731763   \n",
      "foodie       0.293305  0.667436  0.442631  0.620087    ...        0.450146   \n",
      "fresh        0.360386  0.613078  0.505560  0.725007    ...        0.436643   \n",
      "fruit        0.167163  0.436908  0.256337  0.447750    ...        0.222218   \n",
      "fruity       0.441960  0.722926  0.585018  0.662078    ...        0.577782   \n",
      "gig          0.778351  0.755323  0.792266  0.555952    ...        0.760844   \n",
      "...               ...       ...       ...       ...    ...             ...   \n",
      "relax        0.367750  0.736097  0.499468  0.825604    ...        0.475737   \n",
      "responsibly  0.256223  0.364343  0.339726  0.708129    ...        0.394710   \n",
      "rum          0.318027  0.614258  0.502241  0.849141    ...        0.392568   \n",
      "scraped      0.712197  0.664130  0.772872  0.514645    ...        0.663581   \n",
      "seal         0.770853  0.822692  0.791825  0.557672    ...        0.841867   \n",
      "slurp        0.237977  0.472131  0.326723  0.785387    ...        0.369020   \n",
      "soft         0.190782  0.513377  0.328815  0.772189    ...        0.368561   \n",
      "spark        0.683482  0.759554  0.798191  0.534303    ...        0.722363   \n",
      "statue       0.740427  0.852029  0.740152  0.568677    ...        0.790910   \n",
      "strawberry   0.270380  0.603119  0.437126  0.661232    ...        0.380077   \n",
      "super        0.322771  0.583770  0.407299  0.329117    ...        0.419744   \n",
      "tasty        0.255660  0.635010  0.405126  0.627257    ...        0.400773   \n",
      "tea          0.157796  0.439845  0.307465  0.666677    ...        0.162565   \n",
      "tequila      0.338604  0.478194  0.511837  0.725246    ...        0.316878   \n",
      "textile      0.517907  0.719742  0.601497  0.571043    ...        0.607238   \n",
      "tipsy        0.282017  0.509234  0.471847  0.597009    ...        0.430013   \n",
      "tropical     0.397825  0.678504  0.461108  0.575986    ...        0.565726   \n",
      "tunnel       0.818541  0.739851  0.787924  0.483725    ...        0.868359   \n",
      "turban       0.733583  0.799608  0.824833  0.666176    ...        0.700062   \n",
      "tweet        0.605467  0.601401  0.556638  0.219690    ...        0.528309   \n",
      "underground  0.786037  0.767209  0.773278  0.465610    ...        1.000000   \n",
      "uniform      0.870956  0.756790  0.869638  0.487443    ...        0.809134   \n",
      "vegetable    0.297156  0.596096  0.475777  0.674744    ...        0.383038   \n",
      "veggie       0.354827  0.680028  0.510842  0.619569    ...        0.439679   \n",
      "vermouth     0.422498  0.589269  0.588825  0.833411    ...        0.574327   \n",
      "vitamin      0.290833  0.580348  0.436529  0.664029    ...        0.373050   \n",
      "wine         0.201872  0.325534  0.333083  0.591024    ...        0.112923   \n",
      "youngster    0.760779  0.732050  0.788794  0.515984    ...        0.690070   \n",
      "yum          0.286726  0.662607  0.446342  0.716006    ...        0.479053   \n",
      "yummy        0.237006  0.669589  0.400409  0.625019    ...        0.422875   \n",
      "\n",
      "term_2        uniform  vegetable    veggie  vermouth   vitamin      wine  \\\n",
      "term_1                                                                     \n",
      "account      0.570050   0.120824  0.243150  0.124291  0.104922  0.016452   \n",
      "antioxidant  0.332800   0.866154  0.866635  0.677860  0.858866  0.397464   \n",
      "bangkok      0.538570   0.562686  0.549628  0.720458  0.541429  0.348800   \n",
      "bartender    0.647672   0.507515  0.422855  0.892641  0.506076  0.610480   \n",
      "beer         0.258261   0.364970  0.241653  0.652424  0.386407  0.896838   \n",
      "berry        0.348779   0.850483  0.882102  0.635969  0.853451  0.422437   \n",
      "blast        0.870956   0.297156  0.354827  0.422498  0.290833  0.201872   \n",
      "booty        0.756790   0.596096  0.680028  0.589269  0.580348  0.325534   \n",
      "brewed       0.869638   0.475777  0.510842  0.588825  0.436529  0.333083   \n",
      "broth        0.487443   0.674744  0.619569  0.833411  0.664029  0.591024   \n",
      "cash         0.782013   0.303849  0.361370  0.479756  0.320040  0.294162   \n",
      "champagne    0.463000   0.458929  0.368735  0.703765  0.489860  0.637321   \n",
      "chat         0.752912   0.311572  0.375474  0.484393  0.306434  0.241848   \n",
      "cocktail     0.366001   0.615403  0.538937  0.851359  0.658258  0.761838   \n",
      "coffee       0.247233   0.620535  0.579754  0.572259  0.626887  0.762834   \n",
      "cognac       0.323584   0.395685  0.269040  0.777054  0.409345  0.595141   \n",
      "competition  0.697929   0.596679  0.621430  0.410404  0.574654  0.102877   \n",
      "condiment    0.354191   0.703827  0.658736  0.723605  0.568646  0.465361   \n",
      "cracking     0.848232   0.446340  0.487120  0.562752  0.379837  0.265982   \n",
      "dean         0.836409   0.259638  0.259904  0.468692  0.280273  0.306683   \n",
      "decaf        0.346092   0.479626  0.371304  0.750214  0.455180  0.498307   \n",
      "desk         0.745450   0.276742  0.414807  0.393199  0.276261  0.141043   \n",
      "detox        0.410718   0.857736  0.849586  0.571924  0.805350  0.250076   \n",
      "dinnertime   0.342286   0.505976  0.466320  0.764085  0.477502  0.543404   \n",
      "employee     0.757988   0.165552  0.161894  0.356019  0.152933  0.130645   \n",
      "foodie       0.369875   0.824362  0.862946  0.580839  0.740122  0.286560   \n",
      "fresh        0.325110   0.881690  0.879857  0.694118  0.824062  0.568720   \n",
      "fruit        0.138869   0.818469  0.745446  0.419327  0.828788  0.432036   \n",
      "fruity       0.466166   0.810674  0.851276  0.636500  0.851400  0.383073   \n",
      "gig          0.733833   0.552650  0.534097  0.539038  0.477621  0.187831   \n",
      "...               ...        ...       ...       ...       ...       ...   \n",
      "relax        0.501369   0.691880  0.636887  0.711910  0.717995  0.518063   \n",
      "responsibly  0.385727   0.410817  0.261104  0.723822  0.426728  0.549916   \n",
      "rum          0.447280   0.631830  0.554314  0.873204  0.673125  0.771287   \n",
      "scraped      0.758900   0.273931  0.268370  0.382704  0.243023  0.194631   \n",
      "seal         0.792944   0.519336  0.531081  0.629854  0.479335  0.234640   \n",
      "slurp        0.329096   0.547401  0.458657  0.764896  0.600949  0.650523   \n",
      "soft         0.348570   0.490438  0.438483  0.732508  0.537948  0.602219   \n",
      "spark        0.811331   0.433495  0.401756  0.588418  0.433102  0.315001   \n",
      "statue       0.768472   0.505380  0.516333  0.556166  0.527550  0.258684   \n",
      "strawberry   0.276204   0.726930  0.788014  0.570673  0.795655  0.380659   \n",
      "super        0.276326   0.629612  0.679703  0.273200  0.700318  0.227663   \n",
      "tasty        0.313010   0.824701  0.841700  0.535840  0.830272  0.395369   \n",
      "tea          0.163125   0.616323  0.574839  0.609579  0.602214  0.798389   \n",
      "tequila      0.405914   0.546999  0.481097  0.810605  0.526373  0.805043   \n",
      "textile      0.576420   0.496465  0.452817  0.470298  0.612989  0.292498   \n",
      "tipsy        0.451549   0.310374  0.265917  0.651253  0.324668  0.471091   \n",
      "tropical     0.399482   0.766723  0.772841  0.598464  0.790629  0.337924   \n",
      "tunnel       0.812902   0.362128  0.445516  0.492463  0.357461  0.134028   \n",
      "turban       0.837274   0.499374  0.466084  0.677286  0.467860  0.357283   \n",
      "tweet        0.573591   0.269483  0.264330  0.164491  0.366454  0.099201   \n",
      "underground  0.809134   0.383038  0.439679  0.574327  0.373050  0.112923   \n",
      "uniform      1.000000   0.288265  0.313917  0.545458  0.281539  0.234190   \n",
      "vegetable    0.288265   1.000000  0.891040  0.635213  0.858729  0.442685   \n",
      "veggie       0.313917   0.891040  1.000000  0.550067  0.806895  0.379612   \n",
      "vermouth     0.545458   0.635213  0.550067  1.000000  0.573491  0.624668   \n",
      "vitamin      0.281539   0.858729  0.806895  0.573491  1.000000  0.436251   \n",
      "wine         0.234190   0.442685  0.379612  0.624668  0.436251  1.000000   \n",
      "youngster    0.777536   0.361501  0.443483  0.436465  0.283496  0.173427   \n",
      "yum          0.362317   0.830430  0.820152  0.726661  0.826189  0.486284   \n",
      "yummy        0.309046   0.812244  0.827617  0.586060  0.824896  0.386085   \n",
      "\n",
      "term_2       youngster       yum     yummy  \n",
      "term_1                                      \n",
      "account       0.618655  0.138012  0.148544  \n",
      "antioxidant   0.304269  0.915895  0.897758  \n",
      "bangkok       0.462349  0.736769  0.693480  \n",
      "bartender     0.520865  0.664502  0.525325  \n",
      "beer          0.162425  0.461937  0.318687  \n",
      "berry         0.420454  0.841030  0.834163  \n",
      "blast         0.760779  0.286726  0.237006  \n",
      "booty         0.732050  0.662607  0.669589  \n",
      "brewed        0.788794  0.446342  0.400409  \n",
      "broth         0.515984  0.716006  0.625019  \n",
      "cash          0.728464  0.298456  0.237838  \n",
      "champagne     0.365231  0.597992  0.499613  \n",
      "chat          0.764273  0.318241  0.364973  \n",
      "cocktail      0.314949  0.764026  0.637804  \n",
      "coffee        0.209146  0.656256  0.614942  \n",
      "cognac        0.215791  0.582857  0.431263  \n",
      "competition   0.725175  0.551940  0.627854  \n",
      "condiment     0.312170  0.774396  0.662232  \n",
      "cracking      0.811232  0.440426  0.440540  \n",
      "dean          0.773280  0.307563  0.241598  \n",
      "decaf         0.342212  0.564457  0.486099  \n",
      "desk          0.646780  0.341606  0.355866  \n",
      "detox         0.441754  0.864787  0.879223  \n",
      "dinnertime    0.326009  0.677654  0.544303  \n",
      "employee      0.583532  0.197144  0.145078  \n",
      "foodie        0.341484  0.912231  0.899029  \n",
      "fresh         0.408345  0.838352  0.798387  \n",
      "fruit         0.118064  0.755884  0.769272  \n",
      "fruity        0.489302  0.861215  0.858643  \n",
      "gig           0.757416  0.493116  0.476214  \n",
      "...                ...       ...       ...  \n",
      "relax         0.471025  0.819448  0.818456  \n",
      "responsibly   0.218768  0.532527  0.376717  \n",
      "rum           0.389453  0.743372  0.641646  \n",
      "scraped       0.787625  0.185303  0.176653  \n",
      "seal          0.774388  0.549583  0.496585  \n",
      "slurp         0.226336  0.767578  0.667733  \n",
      "soft          0.326854  0.717041  0.629053  \n",
      "spark         0.693979  0.480021  0.500124  \n",
      "statue        0.681959  0.576814  0.582751  \n",
      "strawberry    0.373004  0.750431  0.747146  \n",
      "super         0.325730  0.625403  0.729652  \n",
      "tasty         0.360245  0.905715  0.939809  \n",
      "tea           0.244257  0.653470  0.599422  \n",
      "tequila       0.243033  0.595557  0.465015  \n",
      "textile       0.572548  0.578328  0.580597  \n",
      "tipsy         0.291575  0.427161  0.396367  \n",
      "tropical      0.360437  0.821416  0.820758  \n",
      "tunnel        0.776276  0.402861  0.371334  \n",
      "turban        0.799708  0.474346  0.425081  \n",
      "tweet         0.496547  0.308916  0.357254  \n",
      "underground   0.690070  0.479053  0.422875  \n",
      "uniform       0.777536  0.362317  0.309046  \n",
      "vegetable     0.361501  0.830430  0.812244  \n",
      "veggie        0.443483  0.820152  0.827617  \n",
      "vermouth      0.436465  0.726661  0.586060  \n",
      "vitamin       0.283496  0.826189  0.824896  \n",
      "wine          0.173427  0.486284  0.386085  \n",
      "youngster     1.000000  0.313644  0.308695  \n",
      "yum           0.313644  1.000000  0.942157  \n",
      "yummy         0.308695  0.942157  1.000000  \n",
      "\n",
      "[90 rows x 90 columns]\n"
     ]
    }
   ],
   "source": [
    "sim_p = sim_df.pivot(index = \"term_1\", columns = \"term_2\", values = \"similarity\")\n",
    "\n",
    "print(sim_p)"
   ]
  },
  {
   "cell_type": "markdown",
   "metadata": {},
   "source": [
    "and now the moneyshot"
   ]
  },
  {
   "cell_type": "code",
   "execution_count": 8,
   "metadata": {
    "scrolled": true
   },
   "outputs": [
    {
     "data": {
      "image/png": "[encoded data removed]",
      "text/plain": [
       "<matplotlib.figure.Figure at 0x1fd8a09c160>"
      ]
     },
     "metadata": {},
     "output_type": "display_data"
    }
   ],
   "source": [
    "plt.imshow(sim_p,cmap='hot',interpolation='nearest')\n",
    "plt.show()"
   ]
  },
  {
   "cell_type": "markdown",
   "metadata": {},
   "source": [
    "## clustering\n",
    "\n",
    "now we've got our datasets for inputting, lets get our outputs from the sklearn systems. \n",
    "\n",
    "### clustering models to use\n",
    "* SpectralClustering\n",
    "* Kmeans\n",
    "* MiniBatchKmeans\n",
    "* DBSCAN - tried but mostly -1s :("
   ]
  },
  {
   "cell_type": "code",
   "execution_count": 9,
   "metadata": {
    "scrolled": true
   },
   "outputs": [
    {
     "name": "stdout",
     "output_type": "stream",
     "text": [
      "['account' 'antioxidant' 'bangkok' 'bartender' 'beer' 'berry' 'blast'\n",
      " 'booty' 'brewed' 'broth' 'cash' 'champagne' 'chat' 'cocktail' 'coffee'\n",
      " 'cognac' 'competition' 'condiment' 'cracking' 'dean' 'decaf' 'desk'\n",
      " 'detox' 'dinnertime' 'employee' 'foodie' 'fresh' 'fruit' 'fruity' 'gig'\n",
      " 'ginger' 'glutton' 'green' 'gullible' 'hearties' 'herbal' 'homemade'\n",
      " 'imbibe' 'initiative' 'invigorate' 'kiwi' 'lad' 'lemonade' 'liquor'\n",
      " 'loan' 'mackerel' 'mango' 'martini' 'nightlife' 'nutritious' 'partner'\n",
      " 'pineapple' 'pink' 'pomegranate' 'portico' 'protein' 'quest' 'rarely'\n",
      " 'recharge' 'refreshing' 'relax' 'responsibly' 'rum' 'scraped' 'seal'\n",
      " 'slurp' 'soft' 'spark' 'statue' 'strawberry' 'super' 'tasty' 'tea'\n",
      " 'tequila' 'textile' 'tipsy' 'tropical' 'tunnel' 'turban' 'tweet'\n",
      " 'underground' 'uniform' 'vegetable' 'veggie' 'vermouth' 'vitamin' 'wine'\n",
      " 'youngster' 'yum' 'yummy']\n"
     ]
    }
   ],
   "source": [
    "from sklearn.cluster import SpectralClustering\n",
    "\n",
    "simcluster1 = SpectralClustering(3).fit_predict(sim_p)\n",
    "\n",
    "print(sim_p.columns.values)\n",
    "\n",
    "# print(dir(model))\n",
    "# print(model)\n",
    "\n",
    "# for x, y in zip(simcluster1, sim_p.columns.values):\n",
    "#     print(y, x)\n",
    "    \n",
    "test_df = pd.DataFrame()\n",
    "\n",
    "test_df[\"term\"] = sim_p.columns.values\n",
    "test_df[\"sim_matrixcluster\"] = simcluster1"
   ]
  },
  {
   "cell_type": "code",
   "execution_count": 10,
   "metadata": {},
   "outputs": [
    {
     "name": "stdout",
     "output_type": "stream",
     "text": [
      "90\n"
     ]
    }
   ],
   "source": [
    "#lets try using the 300 row thing \n",
    "\n",
    "modeldf = pd.DataFrame(model.wv.syn0)\n",
    "modeldf.index = model.wv.vocab\n",
    "\n",
    "modeldf = modeldf[(modeldf.index.isin(vocab))]\n",
    "\n",
    "print(len(modeldf))"
   ]
  },
  {
   "cell_type": "code",
   "execution_count": 11,
   "metadata": {
    "scrolled": true
   },
   "outputs": [
    {
     "name": "stdout",
     "output_type": "stream",
     "text": [
      "[  0   1   2   3   4   5   6   7   8   9  10  11  12  13  14  15  16  17\n",
      "  18  19  20  21  22  23  24  25  26  27  28  29  30  31  32  33  34  35\n",
      "  36  37  38  39  40  41  42  43  44  45  46  47  48  49  50  51  52  53\n",
      "  54  55  56  57  58  59  60  61  62  63  64  65  66  67  68  69  70  71\n",
      "  72  73  74  75  76  77  78  79  80  81  82  83  84  85  86  87  88  89\n",
      "  90  91  92  93  94  95  96  97  98  99 100 101 102 103 104 105 106 107\n",
      " 108 109 110 111 112 113 114 115 116 117 118 119 120 121 122 123 124 125\n",
      " 126 127 128 129 130 131 132 133 134 135 136 137 138 139 140 141 142 143\n",
      " 144 145 146 147 148 149 150 151 152 153 154 155 156 157 158 159 160 161\n",
      " 162 163 164 165 166 167 168 169 170 171 172 173 174 175 176 177 178 179\n",
      " 180 181 182 183 184 185 186 187 188 189 190 191 192 193 194 195 196 197\n",
      " 198 199 200 201 202 203 204 205 206 207 208 209 210 211 212 213 214 215\n",
      " 216 217 218 219 220 221 222 223 224 225 226 227 228 229 230 231 232 233\n",
      " 234 235 236 237 238 239 240 241 242 243 244 245 246 247 248 249 250 251\n",
      " 252 253 254 255 256 257 258 259 260 261 262 263 264 265 266 267 268 269\n",
      " 270 271 272 273 274 275 276 277 278 279 280 281 282 283 284 285 286 287\n",
      " 288 289 290 291 292 293 294 295 296 297 298 299]\n"
     ]
    }
   ],
   "source": [
    "simcluster2 = SpectralClustering(3).fit_predict(modeldf)\n",
    "\n",
    "print(modeldf.columns.values)\n",
    "\n",
    "# print(dir(model))\n",
    "# print(model)\n",
    "\n",
    "# for x, y in zip(simcluster2, modeldf.columns.values):\n",
    "#     print(y, x)\n",
    "    \n",
    "test_df[\"vector_cluster\"] = simcluster2"
   ]
  },
  {
   "cell_type": "code",
   "execution_count": 12,
   "metadata": {
    "scrolled": true
   },
   "outputs": [
    {
     "name": "stdout",
     "output_type": "stream",
     "text": [
      "           term  sim_matrixcluster  vector_cluster  original_cluster\n",
      "0       account                  0               1                 0\n",
      "1   antioxidant                  1               1                 0\n",
      "2       bangkok                  2               1                 0\n",
      "3     bartender                  2               1                 0\n",
      "4          beer                  2               1                 0\n",
      "5         berry                  1               1                 0\n",
      "6         blast                  0               1                 0\n",
      "7         booty                  0               1                 0\n",
      "8        brewed                  0               1                 0\n",
      "9         broth                  2               1                 0\n",
      "10         cash                  0               1                 0\n",
      "11    champagne                  2               1                 0\n",
      "12         chat                  0               1                 0\n",
      "13     cocktail                  2               1                 0\n",
      "14       coffee                  2               1                 0\n",
      "15       cognac                  2               1                 0\n",
      "16  competition                  0               1                 0\n",
      "17    condiment                  2               1                 0\n",
      "18     cracking                  0               1                 0\n",
      "19         dean                  0               1                 0\n",
      "20        decaf                  2               1                 0\n",
      "21         desk                  0               1                 0\n",
      "22        detox                  1               1                 0\n",
      "23   dinnertime                  2               1                 0\n",
      "24     employee                  0               1                 0\n",
      "25       foodie                  1               1                 0\n",
      "26        fresh                  1               1                 0\n",
      "27        fruit                  2               1                 0\n",
      "28       fruity                  1               1                 0\n",
      "29          gig                  0               1                 0\n",
      "..          ...                ...             ...               ...\n",
      "60        relax                  2               1                 2\n",
      "61  responsibly                  2               0                 2\n",
      "62          rum                  2               0                 2\n",
      "63      scraped                  0               0                 2\n",
      "64         seal                  0               2                 2\n",
      "65        slurp                  2               0                 2\n",
      "66         soft                  2               0                 2\n",
      "67        spark                  0               0                 2\n",
      "68       statue                  0               0                 2\n",
      "69   strawberry                  1               0                 2\n",
      "70        super                  2               0                 2\n",
      "71        tasty                  1               0                 2\n",
      "72          tea                  2               0                 2\n",
      "73      tequila                  2               0                 2\n",
      "74      textile                  0               0                 2\n",
      "75        tipsy                  2               0                 2\n",
      "76     tropical                  1               0                 2\n",
      "77       tunnel                  0               0                 2\n",
      "78       turban                  0               0                 2\n",
      "79        tweet                  0               0                 2\n",
      "80  underground                  0               0                 2\n",
      "81      uniform                  0               0                 2\n",
      "82    vegetable                  1               0                 2\n",
      "83       veggie                  1               0                 2\n",
      "84     vermouth                  2               0                 2\n",
      "85      vitamin                  1               0                 2\n",
      "86         wine                  2               0                 2\n",
      "87    youngster                  0               0                 2\n",
      "88          yum                  1               0                 2\n",
      "89        yummy                  1               0                 2\n",
      "\n",
      "[90 rows x 4 columns]\n"
     ]
    }
   ],
   "source": [
    "test_df[\"original_cluster\"] = init_tag\n",
    "print(test_df)\n",
    "# test_df.to_csv(\"cluster_output.csv\")"
   ]
  },
  {
   "cell_type": "code",
   "execution_count": 13,
   "metadata": {
    "scrolled": true
   },
   "outputs": [
    {
     "name": "stdout",
     "output_type": "stream",
     "text": [
      "['account' 'antioxidant' 'bangkok' 'bartender' 'beer' 'berry' 'blast'\n",
      " 'booty' 'brewed' 'broth' 'cash' 'champagne' 'chat' 'cocktail' 'coffee'\n",
      " 'cognac' 'competition' 'condiment' 'cracking' 'dean' 'decaf' 'desk'\n",
      " 'detox' 'dinnertime' 'employee' 'foodie' 'fresh' 'fruit' 'fruity' 'gig'\n",
      " 'ginger' 'glutton' 'green' 'gullible' 'hearties' 'herbal' 'homemade'\n",
      " 'imbibe' 'initiative' 'invigorate' 'kiwi' 'lad' 'lemonade' 'liquor'\n",
      " 'loan' 'mackerel' 'mango' 'martini' 'nightlife' 'nutritious' 'partner'\n",
      " 'pineapple' 'pink' 'pomegranate' 'portico' 'protein' 'quest' 'rarely'\n",
      " 'recharge' 'refreshing' 'relax' 'responsibly' 'rum' 'scraped' 'seal'\n",
      " 'slurp' 'soft' 'spark' 'statue' 'strawberry' 'super' 'tasty' 'tea'\n",
      " 'tequila' 'textile' 'tipsy' 'tropical' 'tunnel' 'turban' 'tweet'\n",
      " 'underground' 'uniform' 'vegetable' 'veggie' 'vermouth' 'vitamin' 'wine'\n",
      " 'youngster' 'yum' 'yummy']\n"
     ]
    }
   ],
   "source": [
    "from sklearn.cluster import MiniBatchKMeans\n",
    "\n",
    "simcluster1 = MiniBatchKMeans(3).fit_predict(sim_p)\n",
    "\n",
    "print(sim_p.columns.values)\n",
    "\n",
    "# print(dir(model))\n",
    "# print(model)\n",
    "\n",
    "# for x, y in zip(simcluster1, sim_p.columns.values):\n",
    "#     print(y, x)\n",
    "    \n",
    "# test_df = pd.DataFrame()\n",
    "\n",
    "test_df[\"sim_matrix_kmeans_cluster\"] = simcluster1"
   ]
  },
  {
   "cell_type": "code",
   "execution_count": 14,
   "metadata": {
    "scrolled": true
   },
   "outputs": [
    {
     "name": "stdout",
     "output_type": "stream",
     "text": [
      "[  0   1   2   3   4   5   6   7   8   9  10  11  12  13  14  15  16  17\n",
      "  18  19  20  21  22  23  24  25  26  27  28  29  30  31  32  33  34  35\n",
      "  36  37  38  39  40  41  42  43  44  45  46  47  48  49  50  51  52  53\n",
      "  54  55  56  57  58  59  60  61  62  63  64  65  66  67  68  69  70  71\n",
      "  72  73  74  75  76  77  78  79  80  81  82  83  84  85  86  87  88  89\n",
      "  90  91  92  93  94  95  96  97  98  99 100 101 102 103 104 105 106 107\n",
      " 108 109 110 111 112 113 114 115 116 117 118 119 120 121 122 123 124 125\n",
      " 126 127 128 129 130 131 132 133 134 135 136 137 138 139 140 141 142 143\n",
      " 144 145 146 147 148 149 150 151 152 153 154 155 156 157 158 159 160 161\n",
      " 162 163 164 165 166 167 168 169 170 171 172 173 174 175 176 177 178 179\n",
      " 180 181 182 183 184 185 186 187 188 189 190 191 192 193 194 195 196 197\n",
      " 198 199 200 201 202 203 204 205 206 207 208 209 210 211 212 213 214 215\n",
      " 216 217 218 219 220 221 222 223 224 225 226 227 228 229 230 231 232 233\n",
      " 234 235 236 237 238 239 240 241 242 243 244 245 246 247 248 249 250 251\n",
      " 252 253 254 255 256 257 258 259 260 261 262 263 264 265 266 267 268 269\n",
      " 270 271 272 273 274 275 276 277 278 279 280 281 282 283 284 285 286 287\n",
      " 288 289 290 291 292 293 294 295 296 297 298 299]\n"
     ]
    }
   ],
   "source": [
    "simcluster2 = MiniBatchKMeans(3).fit_predict(modeldf)\n",
    "\n",
    "print(modeldf.columns.values)\n",
    "\n",
    "# print(dir(model))\n",
    "# print(model)\n",
    "\n",
    "# for x, y in zip(simcluster2, modeldf.columns.values):\n",
    "#     print(y, x)\n",
    "    \n",
    "test_df[\"kmeans_vector_cluster\"] = simcluster2"
   ]
  },
  {
   "cell_type": "code",
   "execution_count": 15,
   "metadata": {
    "scrolled": true
   },
   "outputs": [],
   "source": [
    "from sklearn.cluster import KMeans\n",
    "\n",
    "simcluster1 = KMeans(3).fit_predict(sim_p)\n",
    "\n",
    "# print(sim_p.columns.values)\n",
    "\n",
    "# print(dir(model))\n",
    "# print(model)\n",
    "\n",
    "# for x, y in zip(simcluster1, sim_p.columns.values):\n",
    "#     print(y, x)\n",
    "    \n",
    "# test_df = pd.DataFrame()\n",
    "\n",
    "test_df[\"sim_matrix_kmeans_maxi_cluster\"] = simcluster1"
   ]
  },
  {
   "cell_type": "code",
   "execution_count": 16,
   "metadata": {},
   "outputs": [
    {
     "name": "stdout",
     "output_type": "stream",
     "text": [
      "[  0   1   2   3   4   5   6   7   8   9  10  11  12  13  14  15  16  17\n",
      "  18  19  20  21  22  23  24  25  26  27  28  29  30  31  32  33  34  35\n",
      "  36  37  38  39  40  41  42  43  44  45  46  47  48  49  50  51  52  53\n",
      "  54  55  56  57  58  59  60  61  62  63  64  65  66  67  68  69  70  71\n",
      "  72  73  74  75  76  77  78  79  80  81  82  83  84  85  86  87  88  89\n",
      "  90  91  92  93  94  95  96  97  98  99 100 101 102 103 104 105 106 107\n",
      " 108 109 110 111 112 113 114 115 116 117 118 119 120 121 122 123 124 125\n",
      " 126 127 128 129 130 131 132 133 134 135 136 137 138 139 140 141 142 143\n",
      " 144 145 146 147 148 149 150 151 152 153 154 155 156 157 158 159 160 161\n",
      " 162 163 164 165 166 167 168 169 170 171 172 173 174 175 176 177 178 179\n",
      " 180 181 182 183 184 185 186 187 188 189 190 191 192 193 194 195 196 197\n",
      " 198 199 200 201 202 203 204 205 206 207 208 209 210 211 212 213 214 215\n",
      " 216 217 218 219 220 221 222 223 224 225 226 227 228 229 230 231 232 233\n",
      " 234 235 236 237 238 239 240 241 242 243 244 245 246 247 248 249 250 251\n",
      " 252 253 254 255 256 257 258 259 260 261 262 263 264 265 266 267 268 269\n",
      " 270 271 272 273 274 275 276 277 278 279 280 281 282 283 284 285 286 287\n",
      " 288 289 290 291 292 293 294 295 296 297 298 299]\n"
     ]
    }
   ],
   "source": [
    "simcluster2 = KMeans(3).fit_predict(modeldf)\n",
    "\n",
    "print(modeldf.columns.values)\n",
    "\n",
    "# print(dir(model))\n",
    "# print(model)\n",
    "\n",
    "# for x, y in zip(simcluster2, modeldf.columns.values):\n",
    "#     print(y, x)\n",
    "    \n",
    "test_df[\"kmeans_maxi_vector_cluster\"] = simcluster2"
   ]
  },
  {
   "cell_type": "code",
   "execution_count": 18,
   "metadata": {},
   "outputs": [],
   "source": [
    "test_df.to_csv(\"cluster_output.csv\")"
   ]
  },
  {
   "cell_type": "markdown",
   "metadata": {},
   "source": [
    "and then let's look at that cvs to manually check out what it looks like! "
   ]
  }
 ],
 "metadata": {
  "kernelspec": {
   "display_name": "Python 3",
   "language": "python",
   "name": "python3"
  },
  "language_info": {
   "codemirror_mode": {
    "name": "ipython",
    "version": 3
   },
   "file_extension": ".py",
   "mimetype": "text/x-python",
   "name": "python",
   "nbconvert_exporter": "python",
   "pygments_lexer": "ipython3",
   "version": "3.6.1"
  }
 },
 "nbformat": 4,
 "nbformat_minor": 2
}
